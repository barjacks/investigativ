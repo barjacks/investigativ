{
 "cells": [
  {
   "cell_type": "markdown",
   "metadata": {},
   "source": [
    "# Modules, Requests und arbeiten mit APIs"
   ]
  },
  {
   "cell_type": "markdown",
   "metadata": {},
   "source": [
    "#### 0. Importiere die Module requests und pandas, die verwenden würdest"
   ]
  },
  {
   "cell_type": "code",
   "execution_count": 1,
   "metadata": {},
   "outputs": [],
   "source": [
    "import requests"
   ]
  },
  {
   "cell_type": "code",
   "execution_count": 2,
   "metadata": {},
   "outputs": [],
   "source": [
    "import pandas as pd"
   ]
  },
  {
   "cell_type": "code",
   "execution_count": 11,
   "metadata": {
    "collapsed": true
   },
   "outputs": [],
   "source": [
    "import requests"
   ]
  },
  {
   "cell_type": "code",
   "execution_count": 12,
   "metadata": {
    "collapsed": true
   },
   "outputs": [],
   "source": [
    "import pandas as pd"
   ]
  },
  {
   "cell_type": "markdown",
   "metadata": {},
   "source": [
    "#### 1. Suche ein paar Beispiele von APIs. Von solchen, die mit und ohne Schlüssel, verwendet werden können und liste sie auf. "
   ]
  },
  {
   "cell_type": "code",
   "execution_count": null,
   "metadata": {
    "collapsed": true
   },
   "outputs": [],
   "source": [
    "https://developers.google.com/maps/documentation/javascript/ #google maps braucht einen schlüssel\n",
    "https://wiki.musicbrainz.org/Development/JSON_Web_Service #musicbrainz braucht keinen key\n",
    "https://developer.spotify.com/web-api/ #spotify braucht keinen key\n",
    "https://docs.openaq.org/ #luftqualität brauchtt keinen key"
   ]
  },
  {
   "cell_type": "markdown",
   "metadata": {},
   "source": [
    "#### 2. Lese eine dieser APIs mit requests ein und rufe die Ergebnisse auf."
   ]
  },
  {
   "cell_type": "code",
   "execution_count": 13,
   "metadata": {
    "collapsed": true
   },
   "outputs": [],
   "source": [
    "url = \"https://api.openaq.org/v1/cities\""
   ]
  },
  {
   "cell_type": "code",
   "execution_count": 14,
   "metadata": {
    "collapsed": true
   },
   "outputs": [],
   "source": [
    "response = requests.get(url)"
   ]
  },
  {
   "cell_type": "code",
   "execution_count": 15,
   "metadata": {},
   "outputs": [
    {
     "data": {
      "text/plain": [
       "{'meta': {'found': 1881,\n",
       "  'license': 'CC BY 4.0',\n",
       "  'limit': 100,\n",
       "  'name': 'openaq-api',\n",
       "  'page': 1,\n",
       "  'website': 'https://docs.openaq.org/'},\n",
       " 'results': [{'city': 'Escaldes-Engordany',\n",
       "   'count': 2377,\n",
       "   'country': 'AD',\n",
       "   'locations': 2},\n",
       "  {'city': 'unused', 'count': 290, 'country': 'AD', 'locations': 1},\n",
       "  {'city': 'Buenos Aires', 'count': 15840, 'country': 'AR', 'locations': 4},\n",
       "  {'city': 'Gemeinde Wien, MA22 Umweltschutz',\n",
       "   'count': 136958,\n",
       "   'country': 'AT',\n",
       "   'locations': 21},\n",
       "  {'city': 'Amt der Nieder�sterreichischen Landesregierung',\n",
       "   'count': 339068,\n",
       "   'country': 'AT',\n",
       "   'locations': 39},\n",
       "  {'city': 'Austria', 'count': 121987, 'country': 'AT', 'locations': 174},\n",
       "  {'city': 'Amt der Steierm�rkischen Landesregierung',\n",
       "   'count': 336912,\n",
       "   'country': 'AT',\n",
       "   'locations': 41},\n",
       "  {'city': 'Amt der K�rntner Landesregierung',\n",
       "   'count': 109995,\n",
       "   'country': 'AT',\n",
       "   'locations': 16},\n",
       "  {'city': 'Amt der Ober�sterreichischen Landesregierung',\n",
       "   'count': 162343,\n",
       "   'country': 'AT',\n",
       "   'locations': 16},\n",
       "  {'city': 'Umweltinstitut des Landes Vorarlberg',\n",
       "   'count': 37996,\n",
       "   'country': 'AT',\n",
       "   'locations': 9},\n",
       "  {'city': 'Amt der Tiroler Landesregierung',\n",
       "   'count': 119040,\n",
       "   'country': 'AT',\n",
       "   'locations': 19},\n",
       "  {'city': 'Amt der Burgenl�ndischen Landesregierung',\n",
       "   'count': 37454,\n",
       "   'country': 'AT',\n",
       "   'locations': 3},\n",
       "  {'city': 'Amt der Burgenländischen Landesregierung',\n",
       "   'count': 471,\n",
       "   'country': 'AT',\n",
       "   'locations': 1},\n",
       "  {'city': 'Amt der Oberösterreichischen Landesregierung',\n",
       "   'count': 2828,\n",
       "   'country': 'AT',\n",
       "   'locations': 6},\n",
       "  {'city': 'Umweltbundesamt', 'count': 85183, 'country': 'AT', 'locations': 8},\n",
       "  {'city': 'Amt der Steiermärkischen Landesregierung',\n",
       "   'count': 1891,\n",
       "   'country': 'AT',\n",
       "   'locations': 4},\n",
       "  {'city': 'Amt der Salzburger Landesregierung',\n",
       "   'count': 99008,\n",
       "   'country': 'AT',\n",
       "   'locations': 12},\n",
       "  {'city': 'Amt der Kärntner Landesregierung',\n",
       "   'count': 471,\n",
       "   'country': 'AT',\n",
       "   'locations': 1},\n",
       "  {'city': 'Amt der Niederösterreichischen Landesregierung',\n",
       "   'count': 1413,\n",
       "   'country': 'AT',\n",
       "   'locations': 3},\n",
       "  {'city': 'Illawarra', 'count': 232413, 'country': 'AU', 'locations': 3},\n",
       "  {'city': 'South-west Slopes',\n",
       "   'count': 52619,\n",
       "   'country': 'AU',\n",
       "   'locations': 2},\n",
       "  {'city': 'Gladstone', 'count': 155224, 'country': 'AU', 'locations': 8},\n",
       "  {'city': 'Sydney South-west',\n",
       "   'count': 402134,\n",
       "   'country': 'AU',\n",
       "   'locations': 6},\n",
       "  {'city': 'Central Tablelands',\n",
       "   'count': 26874,\n",
       "   'country': 'AU',\n",
       "   'locations': 1},\n",
       "  {'city': 'Lower Hunter', 'count': 232147, 'country': 'AU', 'locations': 3},\n",
       "  {'city': 'Tasmania Region',\n",
       "   'count': 614585,\n",
       "   'country': 'AU',\n",
       "   'locations': 34},\n",
       "  {'city': 'South East Queensland',\n",
       "   'count': 233852,\n",
       "   'country': 'AU',\n",
       "   'locations': 14},\n",
       "  {'city': 'Sydney East', 'count': 351350, 'country': 'AU', 'locations': 6},\n",
       "  {'city': 'Townsville', 'count': 10702, 'country': 'AU', 'locations': 2},\n",
       "  {'city': 'Mt Isa', 'count': 16056, 'country': 'AU', 'locations': 2},\n",
       "  {'city': 'Mackay', 'count': 10704, 'country': 'AU', 'locations': 2},\n",
       "  {'city': 'Upper Hunter - Muswellbrook',\n",
       "   'count': 61441,\n",
       "   'country': 'AU',\n",
       "   'locations': 1},\n",
       "  {'city': 'Sydney North-west',\n",
       "   'count': 247739,\n",
       "   'country': 'AU',\n",
       "   'locations': 4},\n",
       "  {'city': 'Upper Hunter - Singleton',\n",
       "   'count': 61717,\n",
       "   'country': 'AU',\n",
       "   'locations': 1},\n",
       "  {'city': 'North-west Slopes',\n",
       "   'count': 27988,\n",
       "   'country': 'AU',\n",
       "   'locations': 1},\n",
       "  {'city': 'Central Coast', 'count': 93260, 'country': 'AU', 'locations': 1},\n",
       "  {'city': 'Sarajevo', 'count': 189946, 'country': 'BA', 'locations': 5},\n",
       "  {'city': 'Tuzla', 'count': 46007, 'country': 'BA', 'locations': 3},\n",
       "  {'city': 'Zenica', 'count': 186009, 'country': 'BA', 'locations': 4},\n",
       "  {'city': 'Kakanj', 'count': 16722, 'country': 'BA', 'locations': 1},\n",
       "  {'city': 'Jajce', 'count': 48396, 'country': 'BA', 'locations': 1},\n",
       "  {'city': 'Lukavac', 'count': 16132, 'country': 'BA', 'locations': 1},\n",
       "  {'city': 'Goražde', 'count': 61652, 'country': 'BA', 'locations': 1},\n",
       "  {'city': 'Živinice', 'count': 16339, 'country': 'BA', 'locations': 1},\n",
       "  {'city': 'Dhaka', 'count': 15011, 'country': 'BD', 'locations': 2},\n",
       "  {'city': 'Flanders', 'count': 592553, 'country': 'BE', 'locations': 67},\n",
       "  {'city': 'Brussels', 'count': 127366, 'country': 'BE', 'locations': 9},\n",
       "  {'city': 'Wallonia', 'count': 342899, 'country': 'BE', 'locations': 23},\n",
       "  {'city': 'Antwerpen', 'count': 1170, 'country': 'BE', 'locations': 23},\n",
       "  {'city': 'Limburg', 'count': 208, 'country': 'BE', 'locations': 5},\n",
       "  {'city': 'West-Vlaanderen', 'count': 455, 'country': 'BE', 'locations': 9},\n",
       "  {'city': 'Vlaams-Brabant', 'count': 371, 'country': 'BE', 'locations': 9},\n",
       "  {'city': 'Brussels-Capital Region',\n",
       "   'count': 751,\n",
       "   'country': 'BE',\n",
       "   'locations': 9},\n",
       "  {'city': 'Oost-Vlaanderen', 'count': 697, 'country': 'BE', 'locations': 14},\n",
       "  {'city': 'Liege', 'count': 1726, 'country': 'BE', 'locations': 8},\n",
       "  {'city': 'Hainaut', 'count': 1772, 'country': 'BE', 'locations': 7},\n",
       "  {'city': 'Brabant wallon', 'count': 212, 'country': 'BE', 'locations': 1},\n",
       "  {'city': 'Namur', 'count': 628, 'country': 'BE', 'locations': 3},\n",
       "  {'city': 'Luxembourg', 'count': 885, 'country': 'BE', 'locations': 4},\n",
       "  {'city': 'Manama', 'count': 11566, 'country': 'BH', 'locations': 1},\n",
       "  {'city': 'Americana', 'count': 30309, 'country': 'BR', 'locations': 1},\n",
       "  {'city': 'Aracatuba', 'count': 29, 'country': 'BR', 'locations': 1},\n",
       "  {'city': 'Sao Paulo', 'count': 323911, 'country': 'BR', 'locations': 55},\n",
       "  {'city': 'Araçatuba', 'count': 30276, 'country': 'BR', 'locations': 1},\n",
       "  {'city': 'Araraquara', 'count': 43185, 'country': 'BR', 'locations': 1},\n",
       "  {'city': 'Bauru', 'count': 45259, 'country': 'BR', 'locations': 1},\n",
       "  {'city': 'Campinas', 'count': 120419, 'country': 'BR', 'locations': 3},\n",
       "  {'city': 'Campinas-V.Uniao', 'count': 43, 'country': 'BR', 'locations': 1},\n",
       "  {'city': 'Capao Redondo', 'count': 33, 'country': 'BR', 'locations': 1},\n",
       "  {'city': 'São Paulo', 'count': 699517, 'country': 'BR', 'locations': 15},\n",
       "  {'city': 'Cap��o Redondo', 'count': 1, 'country': 'BR', 'locations': 1},\n",
       "  {'city': 'Carapicuiba', 'count': 13639, 'country': 'BR', 'locations': 1},\n",
       "  {'city': 'Carapicuíba', 'count': 8170, 'country': 'BR', 'locations': 1},\n",
       "  {'city': 'Catanduva', 'count': 46347, 'country': 'BR', 'locations': 1},\n",
       "  {'city': 'Cerqueira Cesar', 'count': 33, 'country': 'BR', 'locations': 1},\n",
       "  {'city': 'Cerqueira César', 'count': 58953, 'country': 'BR', 'locations': 1},\n",
       "  {'city': 'Cubatao-Centro', 'count': 43, 'country': 'BR', 'locations': 1},\n",
       "  {'city': 'Cubatão', 'count': 133553, 'country': 'BR', 'locations': 3},\n",
       "  {'city': 'Cubatao-Vale do Mogi',\n",
       "   'count': 57,\n",
       "   'country': 'BR',\n",
       "   'locations': 1},\n",
       "  {'city': 'Cubatão-Vila Parisi',\n",
       "   'count': 7060,\n",
       "   'country': 'BR',\n",
       "   'locations': 1},\n",
       "  {'city': 'Cubatao-V.Parisi', 'count': 43, 'country': 'BR', 'locations': 1},\n",
       "  {'city': 'Diadema', 'count': 28667, 'country': 'BR', 'locations': 1},\n",
       "  {'city': 'EM-50 Sesc Itaquera',\n",
       "   'count': 14,\n",
       "   'country': 'BR',\n",
       "   'locations': 1},\n",
       "  {'city': 'Guarulhos-Paco Municipal',\n",
       "   'count': 43,\n",
       "   'country': 'BR',\n",
       "   'locations': 1},\n",
       "  {'city': 'Guarulhos', 'count': 122909, 'country': 'BR', 'locations': 2},\n",
       "  {'city': 'IPEN USP', 'count': 44, 'country': 'BR', 'locations': 1},\n",
       "  {'city': 'Jacareí', 'count': 20171, 'country': 'BR', 'locations': 1},\n",
       "  {'city': 'Jau', 'count': 43, 'country': 'BR', 'locations': 1},\n",
       "  {'city': 'Jaú', 'count': 42798, 'country': 'BR', 'locations': 1},\n",
       "  {'city': 'Jundiai', 'count': 43, 'country': 'BR', 'locations': 1},\n",
       "  {'city': 'Jundiaí', 'count': 45328, 'country': 'BR', 'locations': 1},\n",
       "  {'city': 'Limeira', 'count': 34104, 'country': 'BR', 'locations': 1},\n",
       "  {'city': 'Marg.Tietê-Ponte dos Remédios',\n",
       "   'count': 11015,\n",
       "   'country': 'BR',\n",
       "   'locations': 1},\n",
       "  {'city': 'Marg.Tiete-Pte Remedios',\n",
       "   'count': 66,\n",
       "   'country': 'BR',\n",
       "   'locations': 1},\n",
       "  {'city': 'Marilia', 'count': 43, 'country': 'BR', 'locations': 1},\n",
       "  {'city': 'Marília', 'count': 43140, 'country': 'BR', 'locations': 1},\n",
       "  {'city': 'Mauá', 'count': 12372, 'country': 'BR', 'locations': 1},\n",
       "  {'city': 'Nossa Senhora do Ó',\n",
       "   'count': 4675,\n",
       "   'country': 'BR',\n",
       "   'locations': 1},\n",
       "  {'city': 'N.Senhora do O', 'count': 30, 'country': 'BR', 'locations': 1},\n",
       "  {'city': 'Osasco', 'count': 59172, 'country': 'BR', 'locations': 1}]}"
      ]
     },
     "execution_count": 15,
     "metadata": {},
     "output_type": "execute_result"
    }
   ],
   "source": [
    "response.json()"
   ]
  },
  {
   "cell_type": "markdown",
   "metadata": {},
   "source": [
    "#### 3. Zurück zum [Erdbeben API](https://earthquake.usgs.gov). Wie viele Erdbeben wurden im August 2017  verzeichnet?"
   ]
  },
  {
   "cell_type": "code",
   "execution_count": 16,
   "metadata": {
    "collapsed": true
   },
   "outputs": [],
   "source": [
    "url = 'https://earthquake.usgs.gov/fdsnws/event/1/count?starttime=2017-08-01T02:00:00&endtime=2017-09-01T02:00:00'"
   ]
  },
  {
   "cell_type": "code",
   "execution_count": 17,
   "metadata": {},
   "outputs": [
    {
     "data": {
      "text/plain": [
       "'11800'"
      ]
     },
     "execution_count": 17,
     "metadata": {},
     "output_type": "execute_result"
    }
   ],
   "source": [
    "response = requests.get(url)\n",
    "response.text"
   ]
  },
  {
   "cell_type": "markdown",
   "metadata": {},
   "source": [
    "#### 4. Und wie viele Erdbeben im Juli?"
   ]
  },
  {
   "cell_type": "code",
   "execution_count": 18,
   "metadata": {
    "collapsed": true
   },
   "outputs": [],
   "source": [
    "url = 'https://earthquake.usgs.gov/fdsnws/event/1/count?starttime=2017-07-01T02:00:00&endtime=2017-08-01T02:00:00'"
   ]
  },
  {
   "cell_type": "code",
   "execution_count": 19,
   "metadata": {},
   "outputs": [
    {
     "data": {
      "text/plain": [
       "'12987'"
      ]
     },
     "execution_count": 19,
     "metadata": {},
     "output_type": "execute_result"
    }
   ],
   "source": [
    "response = requests.get(url)\n",
    "response.text"
   ]
  },
  {
   "cell_type": "markdown",
   "metadata": {},
   "source": [
    "#### 5. In welchem Monat des aktuellen Jahres wurden am meisten Erdbeben verzeichnet?"
   ]
  },
  {
   "cell_type": "code",
   "execution_count": 105,
   "metadata": {
    "collapsed": true
   },
   "outputs": [],
   "source": [
    "url = \"https://earthquake.usgs.gov/fdsnws/event/1/count?format=geojson\""
   ]
  },
  {
   "cell_type": "code",
   "execution_count": 106,
   "metadata": {
    "collapsed": true
   },
   "outputs": [],
   "source": [
    "urltime = \"&starttime=2017-01-01T02:00:00&endtime=2017-10-01T02:00:00\""
   ]
  },
  {
   "cell_type": "code",
   "execution_count": 107,
   "metadata": {},
   "outputs": [
    {
     "data": {
      "text/plain": [
       "'{\"count\":95825,\"maxAllowed\":20000,\"error\":\"95825 matching events exceeds search limit of 20000. A query using these search parameters would fail. Modify the search to match fewer events.\"}'"
      ]
     },
     "execution_count": 107,
     "metadata": {},
     "output_type": "execute_result"
    }
   ],
   "source": [
    "response = requests.get(url+urltime)\n",
    "response.text"
   ]
  },
  {
   "cell_type": "code",
   "execution_count": 108,
   "metadata": {},
   "outputs": [
    {
     "data": {
      "text/plain": [
       "{'count': 95825,\n",
       " 'error': '95825 matching events exceeds search limit of 20000. A query using these search parameters would fail. Modify the search to match fewer events.',\n",
       " 'maxAllowed': 20000}"
      ]
     },
     "execution_count": 108,
     "metadata": {},
     "output_type": "execute_result"
    }
   ],
   "source": [
    "response.json()"
   ]
  },
  {
   "cell_type": "code",
   "execution_count": 103,
   "metadata": {
    "collapsed": true
   },
   "outputs": [],
   "source": [
    "dct = response.json"
   ]
  },
  {
   "cell_type": "markdown",
   "metadata": {},
   "source": [
    "#### 6. Wandle das in einen Pandas Dataframe um"
   ]
  },
  {
   "cell_type": "code",
   "execution_count": null,
   "metadata": {
    "collapsed": true
   },
   "outputs": [],
   "source": []
  },
  {
   "cell_type": "code",
   "execution_count": null,
   "metadata": {
    "collapsed": true
   },
   "outputs": [],
   "source": []
  },
  {
   "cell_type": "markdown",
   "metadata": {},
   "source": [
    "#### 7. Und speicher das Ergebnis ab"
   ]
  },
  {
   "cell_type": "code",
   "execution_count": 31,
   "metadata": {
    "collapsed": true
   },
   "outputs": [],
   "source": []
  },
  {
   "cell_type": "code",
   "execution_count": null,
   "metadata": {
    "collapsed": true
   },
   "outputs": [],
   "source": []
  }
 ],
 "metadata": {
  "kernelspec": {
   "display_name": "Python 3",
   "language": "python",
   "name": "python3"
  },
  "language_info": {
   "codemirror_mode": {
    "name": "ipython",
    "version": 3
   },
   "file_extension": ".py",
   "mimetype": "text/x-python",
   "name": "python",
   "nbconvert_exporter": "python",
   "pygments_lexer": "ipython3",
   "version": "3.5.1"
  }
 },
 "nbformat": 4,
 "nbformat_minor": 2
}
